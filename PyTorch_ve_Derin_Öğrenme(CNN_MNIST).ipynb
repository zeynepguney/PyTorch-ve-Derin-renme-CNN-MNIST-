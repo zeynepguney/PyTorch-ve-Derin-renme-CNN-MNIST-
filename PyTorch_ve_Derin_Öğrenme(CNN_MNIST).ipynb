{
  "nbformat": 4,
  "nbformat_minor": 0,
  "metadata": {
    "colab": {
      "provenance": [],
      "gpuType": "T4"
    },
    "kernelspec": {
      "name": "python3",
      "display_name": "Python 3"
    },
    "language_info": {
      "name": "python"
    },
    "accelerator": "GPU"
  },
  "cells": [
    {
      "cell_type": "code",
      "execution_count": null,
      "metadata": {
        "id": "Y6rZxICBtO5F"
      },
      "outputs": [],
      "source": [
        "import cv2\n",
        "from google.colab.patches import cv2_imshow\n",
        "import torch\n",
        "import torch.nn as nn\n",
        "import torchvision.transforms as transforms\n",
        "import torchvision.datasets as datasets\n",
        "from torch.autograd import Variable\n",
        "from torch.utils.data import DataLoader, Dataset\n",
        "\n",
        "import matplotlib.pyplot as plt\n",
        "from PIL import Image\n",
        "import numpy as np"
      ]
    },
    {
      "cell_type": "code",
      "source": [
        "# precomputed mean and stddev\n",
        "mean_gray = 0.1307\n",
        "stddev_gray = 0.3081\n",
        "\n",
        "# Transfroms the images to tensors.\n",
        "\n",
        "transforms_original = transforms.Compose([transforms.ToTensor(),\n",
        "                                          transforms.Normalize((mean_gray,), (stddev_gray,))])\n",
        "\n",
        "transforms_photo = transforms.Compose([transforms.Resize((28,28)),\n",
        "                                       transforms.ToTensor(),\n",
        "                                       transforms.Normalize((mean_gray,), (stddev_gray,))])\n",
        "\n"
      ],
      "metadata": {
        "id": "X2xZvhyFu9Th"
      },
      "execution_count": null,
      "outputs": []
    },
    {
      "cell_type": "markdown",
      "source": [
        "##Load Datasets\n"
      ],
      "metadata": {
        "id": "pmCDEgQNxpWm"
      }
    },
    {
      "cell_type": "code",
      "source": [
        "train_dataset = datasets.MNIST(root = \"./data\",\n",
        "                               train = True,\n",
        "                               transform = transforms_original,\n",
        "                               download = True)\n",
        "\n",
        "test_dataset = datasets.MNIST(root = \"./data\",\n",
        "                               train = False,\n",
        "                               transform = transforms_original)"
      ],
      "metadata": {
        "colab": {
          "base_uri": "https://localhost:8080/"
        },
        "id": "5qyqVahqxn4b",
        "outputId": "c83c9900-3a20-41d8-c608-8dc728ae88b6"
      },
      "execution_count": null,
      "outputs": [
        {
          "output_type": "stream",
          "name": "stdout",
          "text": [
            "Downloading http://yann.lecun.com/exdb/mnist/train-images-idx3-ubyte.gz\n",
            "Downloading http://yann.lecun.com/exdb/mnist/train-images-idx3-ubyte.gz to ./data/MNIST/raw/train-images-idx3-ubyte.gz\n"
          ]
        },
        {
          "output_type": "stream",
          "name": "stderr",
          "text": [
            "100%|██████████| 9912422/9912422 [00:00<00:00, 40446171.03it/s]\n"
          ]
        },
        {
          "output_type": "stream",
          "name": "stdout",
          "text": [
            "Extracting ./data/MNIST/raw/train-images-idx3-ubyte.gz to ./data/MNIST/raw\n",
            "\n",
            "Downloading http://yann.lecun.com/exdb/mnist/train-labels-idx1-ubyte.gz\n",
            "Downloading http://yann.lecun.com/exdb/mnist/train-labels-idx1-ubyte.gz to ./data/MNIST/raw/train-labels-idx1-ubyte.gz\n"
          ]
        },
        {
          "output_type": "stream",
          "name": "stderr",
          "text": [
            "100%|██████████| 28881/28881 [00:00<00:00, 22834249.54it/s]\n"
          ]
        },
        {
          "output_type": "stream",
          "name": "stdout",
          "text": [
            "Extracting ./data/MNIST/raw/train-labels-idx1-ubyte.gz to ./data/MNIST/raw\n",
            "\n",
            "Downloading http://yann.lecun.com/exdb/mnist/t10k-images-idx3-ubyte.gz\n",
            "Downloading http://yann.lecun.com/exdb/mnist/t10k-images-idx3-ubyte.gz to ./data/MNIST/raw/t10k-images-idx3-ubyte.gz\n"
          ]
        },
        {
          "output_type": "stream",
          "name": "stderr",
          "text": [
            "100%|██████████| 1648877/1648877 [00:00<00:00, 45859524.13it/s]"
          ]
        },
        {
          "output_type": "stream",
          "name": "stdout",
          "text": [
            "Extracting ./data/MNIST/raw/t10k-images-idx3-ubyte.gz to ./data/MNIST/raw\n"
          ]
        },
        {
          "output_type": "stream",
          "name": "stderr",
          "text": [
            "\n"
          ]
        },
        {
          "output_type": "stream",
          "name": "stdout",
          "text": [
            "\n",
            "Downloading http://yann.lecun.com/exdb/mnist/t10k-labels-idx1-ubyte.gz\n",
            "Downloading http://yann.lecun.com/exdb/mnist/t10k-labels-idx1-ubyte.gz to ./data/MNIST/raw/t10k-labels-idx1-ubyte.gz\n"
          ]
        },
        {
          "output_type": "stream",
          "name": "stderr",
          "text": [
            "100%|██████████| 4542/4542 [00:00<00:00, 5977574.13it/s]"
          ]
        },
        {
          "output_type": "stream",
          "name": "stdout",
          "text": [
            "Extracting ./data/MNIST/raw/t10k-labels-idx1-ubyte.gz to ./data/MNIST/raw\n",
            "\n"
          ]
        },
        {
          "output_type": "stream",
          "name": "stderr",
          "text": [
            "\n"
          ]
        }
      ]
    },
    {
      "cell_type": "markdown",
      "source": [
        "##Random Image\n"
      ],
      "metadata": {
        "id": "_nA2biK8yRnn"
      }
    },
    {
      "cell_type": "code",
      "source": [
        "import matplotlib.pyplot as plt\n",
        "\n",
        "# image(data)\n",
        "random_image = train_dataset[20][0].numpy() * stddev_gray + mean_gray\n",
        "plt.imshow(random_image.reshape(28,28), cmap = \"gray\")"
      ],
      "metadata": {
        "colab": {
          "base_uri": "https://localhost:8080/",
          "height": 447
        },
        "id": "pGM6DCFgyBCk",
        "outputId": "7bad71fe-a4d7-4dce-d6a7-2358f9a23841"
      },
      "execution_count": null,
      "outputs": [
        {
          "output_type": "execute_result",
          "data": {
            "text/plain": [
              "<matplotlib.image.AxesImage at 0x7c6a07026650>"
            ]
          },
          "metadata": {},
          "execution_count": 6
        },
        {
          "output_type": "display_data",
          "data": {
            "text/plain": [
              "<Figure size 640x480 with 1 Axes>"
            ],
            "image/png": "[encoded data removed]"
          },
          "metadata": {}
        }
      ]
    },
    {
      "cell_type": "code",
      "source": [
        "# label\n",
        "print(train_dataset[20][1])"
      ],
      "metadata": {
        "colab": {
          "base_uri": "https://localhost:8080/"
        },
        "id": "Uh4K1-3kyuRg",
        "outputId": "e53d9e1d-4be3-4f05-a372-60252490ae04"
      },
      "execution_count": null,
      "outputs": [
        {
          "output_type": "stream",
          "name": "stdout",
          "text": [
            "4\n"
          ]
        }
      ]
    },
    {
      "cell_type": "code",
      "source": [
        "# Iterable Dataset\n",
        "\n",
        "batch_size= 100\n",
        "train_loader = torch.utils.data.DataLoader(dataset = train_dataset,\n",
        "                                           batch_size = batch_size,\n",
        "                                           shuffle = True)\n",
        "\n",
        "test_loader = torch.utils.data.DataLoader(dataset = test_dataset,\n",
        "                                          batch_size = batch_size,\n",
        "                                          shuffle = False)"
      ],
      "metadata": {
        "id": "HJSrdI3wzN06"
      },
      "execution_count": null,
      "outputs": []
    },
    {
      "cell_type": "code",
      "source": [
        "len(train_dataset)"
      ],
      "metadata": {
        "colab": {
          "base_uri": "https://localhost:8080/"
        },
        "id": "WeXlbWORzyEa",
        "outputId": "802c6006-1018-4e6c-d322-3e544e9e3dc3"
      },
      "execution_count": null,
      "outputs": [
        {
          "output_type": "execute_result",
          "data": {
            "text/plain": [
              "60000"
            ]
          },
          "metadata": {},
          "execution_count": 12
        }
      ]
    },
    {
      "cell_type": "code",
      "source": [
        "len(train_loader)"
      ],
      "metadata": {
        "colab": {
          "base_uri": "https://localhost:8080/"
        },
        "id": "HN1_ScYuz0gh",
        "outputId": "a814f84c-157c-4d46-ea7f-9245fa9df306"
      },
      "execution_count": null,
      "outputs": [
        {
          "output_type": "execute_result",
          "data": {
            "text/plain": [
              "600"
            ]
          },
          "metadata": {},
          "execution_count": 13
        }
      ]
    },
    {
      "cell_type": "code",
      "source": [
        "print(\"Training Set (images) {}\". format(len(train_dataset)))\n",
        "print(\"Test Set (images) {}\". format(len(test_dataset)))\n",
        "\n",
        "print(\"Train Loaader Batches {}\". format(len(train_loader)))\n",
        "print(\"Test Loaader Batches {}\". format(len(test_loader)))"
      ],
      "metadata": {
        "colab": {
          "base_uri": "https://localhost:8080/"
        },
        "id": "PZ_ZZnViz1v4",
        "outputId": "a59cd68c-be27-42df-8fb9-5ca0665fd1a2"
      },
      "execution_count": null,
      "outputs": [
        {
          "output_type": "stream",
          "name": "stdout",
          "text": [
            "Training Set (images) 60000\n",
            "Test Set (images) 10000\n",
            "Train Loaader Batches 600\n",
            "Test Loaader Batches 100\n"
          ]
        }
      ]
    },
    {
      "cell_type": "markdown",
      "source": [
        "# Model Class"
      ],
      "metadata": {
        "id": "eDHLKy_o03DE"
      }
    },
    {
      "cell_type": "code",
      "source": [
        "class CNN(nn.Module):\n",
        "\n",
        "  def __init__(self):\n",
        "\n",
        "    super(CNN, self).__init__()\n",
        "\n",
        "    self.cnn1 = nn.Conv2d(in_channels=1, out_channels=8, kernel_size=3, stride=1, padding=1)\n",
        "    self.batchnorm1 = nn.BatchNorm2d(8)\n",
        "    self.relu = nn.ReLU()\n",
        "    self.maxpool1 = nn.MaxPool2d(kernel_size=2)\n",
        "    #MaxPool'den sonra her output feature map'i 14 (28/2)\n",
        "\n",
        "    self.cnn2 = nn.Conv2d(in_channels=8, out_channels=32, kernel_size=5, stride=1, padding=2)\n",
        "    self.batchnorm2 = nn.BatchNorm2d(32)\n",
        "    self.maxpool2 = nn.MaxPool2d(kernel_size=2)\n",
        "    #MaxPool'den sonra her output feature map'i 7 (14/2)\n",
        "    #Feature Map'leri Flatten'a tabi tut.\n",
        "      # 32 feature map var ve her biri 7*7'lik.\n",
        "      # 32*7*7 = 1568\n",
        "\n",
        "    self.fc1 = nn.Linear(in_features=1568, out_features=600)\n",
        "    self.dropout = nn.Dropout(p=0.5)\n",
        "    self.fc2 = nn.Linear(in_features=600, out_features=10)\n",
        "\n",
        "  def forward(self, x):\n",
        "    x = self.cnn1(x)\n",
        "    x = self.batchnorm1(x)\n",
        "    x = self.relu(x)\n",
        "    x = self.maxpool1(x)\n",
        "    x = self.cnn2(x)\n",
        "    x = self.batchnorm2(x)\n",
        "    x = self.maxpool2(x)\n",
        "    x = x.view(-1, 1568)\n",
        "    x = self.fc1(x)\n",
        "    x = self.relu(x)\n",
        "    x = self.dropout(x)\n",
        "    x = self.fc2(x)\n",
        "    return x"
      ],
      "metadata": {
        "id": "S3oJoSqA0hv4"
      },
      "execution_count": null,
      "outputs": []
    },
    {
      "cell_type": "code",
      "source": [
        "model = CNN()\n",
        "CUDA = torch.cuda.is_available()\n",
        "if CUDA:\n",
        "  model = model.cuda()\n",
        "loss_fn = nn.CrossEntropyLoss()\n",
        "optimizer = torch.optim.SGD(model.parameters(), lr=0.01)"
      ],
      "metadata": {
        "id": "Cb2eOpDuBcXP"
      },
      "execution_count": null,
      "outputs": []
    },
    {
      "cell_type": "code",
      "source": [
        "iteration = 0\n",
        "correct = 0\n",
        "\n",
        "for i, (inputs, labels) in enumerate(train_loader):\n",
        "\n",
        "  CUDA = torch.cuda.is_available()\n",
        "  if CUDA:\n",
        "    inputs = inputs.cuda()\n",
        "    labels =  labels.cuda()\n",
        "\n",
        "  print(\"Her bir iterasyonda...\")\n",
        "  print(\"Input shape : \", inputs.shape)\n",
        "  print(\"Labels shape : \", labels.shape)\n",
        "  output = model(inputs)\n",
        "  print(\"Output shape : \", output.shape)\n",
        "  _, predicted = torch.max(output,1)\n",
        "  print(\"Predicted Shape : \", predicted.shape)\n",
        "  print(\"Predicted Tensor :\")\n",
        "  print(predicted)\n",
        "  correct += (predicted == labels).sum()\n",
        "  break"
      ],
      "metadata": {
        "colab": {
          "base_uri": "https://localhost:8080/"
        },
        "id": "skdkKZeKCWwi",
        "outputId": "532785d1-d606-4fe0-b741-78365f09f1d3"
      },
      "execution_count": null,
      "outputs": [
        {
          "output_type": "stream",
          "name": "stdout",
          "text": [
            "Her bir iterasyonda...\n",
            "Input shape :  torch.Size([100, 1, 28, 28])\n",
            "Labels shape :  torch.Size([100])\n",
            "Output shape :  torch.Size([100, 10])\n",
            "Predicted Shape :  torch.Size([100])\n",
            "Predicted Tensor :\n",
            "tensor([8, 6, 5, 9, 9, 9, 6, 4, 9, 1, 6, 1, 8, 9, 1, 9, 9, 5, 4, 9, 6, 9, 6, 9,\n",
            "        9, 5, 6, 6, 1, 1, 2, 6, 6, 6, 6, 6, 6, 1, 6, 6, 1, 9, 5, 8, 6, 6, 6, 6,\n",
            "        1, 6, 1, 6, 9, 6, 5, 1, 7, 9, 1, 9, 5, 9, 3, 1, 6, 4, 2, 1, 1, 6, 4, 8,\n",
            "        6, 6, 6, 6, 8, 5, 6, 9, 9, 6, 9, 9, 6, 1, 1, 7, 7, 9, 9, 1, 1, 6, 7, 0,\n",
            "        1, 6, 9, 6], device='cuda:0')\n"
          ]
        }
      ]
    },
    {
      "cell_type": "markdown",
      "source": [
        "# Training in the Model"
      ],
      "metadata": {
        "id": "ngftzBfDEK8n"
      }
    },
    {
      "cell_type": "code",
      "source": [
        "num_epochs = 25\n",
        "\n",
        "train_loss = []\n",
        "test_loss = []\n",
        "train_accuracy = []\n",
        "test_accuracy = []\n",
        "\n",
        "for epoch in range(num_epochs):\n",
        "  correct = 0\n",
        "  iterations = 0\n",
        "  iter_loss = 0\n",
        "\n",
        "  model.train()\n",
        "\n",
        "  for i, (inputs, labels) in enumerate(train_loader):\n",
        "\n",
        "    CUDA = torch.cuda.is_available()\n",
        "    if CUDA:\n",
        "      inputs = inputs.cuda()\n",
        "      labels = labels.cuda()\n",
        "\n",
        "    outputs = model(inputs)\n",
        "    loss = loss_fn(outputs, labels)\n",
        "    iter_loss += loss.item()\n",
        "    optimizer.zero_grad()\n",
        "    loss.backward()\n",
        "    optimizer.step()        # update the weights\n",
        "\n",
        "    _, predicted = torch.max(outputs,1)\n",
        "    correct += (predicted == labels).sum()\n",
        "    iterations += 1\n",
        "\n",
        "  train_loss.append(iter_loss/iterations)\n",
        "  train_accuracy.append((100*correct/len(train_dataset)))\n",
        "\n",
        "  testing_loss = 0.0\n",
        "  correct = 0\n",
        "  iterations = 0\n",
        "\n",
        "  model.eval()        # NN evulation mode'a sok.\n",
        "\n",
        "  for i, (inputs, labels) in enumerate(test_loader):\n",
        "\n",
        "    CUDA = torch.cuda.is_available()\n",
        "    if CUDA:\n",
        "      inputs = inputs.cuda()\n",
        "      labels = labels.cuda()\n",
        "\n",
        "    outputs = model(inputs)\n",
        "    loss = loss_fn(outputs, labels)\n",
        "    testing_loss += loss.item()\n",
        "\n",
        "    _, predicted = torch.max(outputs,1)\n",
        "    correct += (predicted == labels).sum()\n",
        "    iterations += 1\n",
        "\n",
        "  test_loss.append(testing_loss/iterations)\n",
        "  test_accuracy.append((100*correct/len(test_dataset)))\n",
        "\n",
        "  print(\"Epoch {}/{}, Training Loss: {:.3f}, Training Accuracy: {:.3f}, Testing Loss: {:.3f}, Testing Acc: {:.3f}\"\n",
        "  .format(epoch+1, num_epochs, train_loss[-1], train_accuracy[-1], test_loss[-1], test_accuracy[-1]))\n"
      ],
      "metadata": {
        "colab": {
          "base_uri": "https://localhost:8080/"
        },
        "id": "5cxImuH3D-9f",
        "outputId": "5a8ff4c2-5d97-41eb-ea62-d6db5fb42f5c"
      },
      "execution_count": null,
      "outputs": [
        {
          "output_type": "stream",
          "name": "stdout",
          "text": [
            "Epoch 1/25, Training Loss: 0.454, Training Accuracy: 87.735, Testing Loss: 0.149, Testing Acc: 95.900\n",
            "Epoch 2/25, Training Loss: 0.156, Training Accuracy: 95.497, Testing Loss: 0.094, Testing Acc: 97.010\n",
            "Epoch 3/25, Training Loss: 0.115, Training Accuracy: 96.595, Testing Loss: 0.077, Testing Acc: 97.420\n",
            "Epoch 4/25, Training Loss: 0.095, Training Accuracy: 97.278, Testing Loss: 0.066, Testing Acc: 97.870\n",
            "Epoch 5/25, Training Loss: 0.084, Training Accuracy: 97.502, Testing Loss: 0.065, Testing Acc: 97.980\n",
            "Epoch 6/25, Training Loss: 0.073, Training Accuracy: 97.905, Testing Loss: 0.052, Testing Acc: 98.250\n",
            "Epoch 7/25, Training Loss: 0.067, Training Accuracy: 98.040, Testing Loss: 0.048, Testing Acc: 98.440\n",
            "Epoch 8/25, Training Loss: 0.061, Training Accuracy: 98.182, Testing Loss: 0.044, Testing Acc: 98.480\n",
            "Epoch 9/25, Training Loss: 0.056, Training Accuracy: 98.350, Testing Loss: 0.042, Testing Acc: 98.600\n",
            "Epoch 10/25, Training Loss: 0.052, Training Accuracy: 98.532, Testing Loss: 0.042, Testing Acc: 98.530\n",
            "Epoch 11/25, Training Loss: 0.049, Training Accuracy: 98.555, Testing Loss: 0.039, Testing Acc: 98.650\n",
            "Epoch 12/25, Training Loss: 0.046, Training Accuracy: 98.607, Testing Loss: 0.037, Testing Acc: 98.750\n",
            "Epoch 13/25, Training Loss: 0.044, Training Accuracy: 98.747, Testing Loss: 0.035, Testing Acc: 98.840\n",
            "Epoch 14/25, Training Loss: 0.040, Training Accuracy: 98.815, Testing Loss: 0.034, Testing Acc: 98.810\n",
            "Epoch 15/25, Training Loss: 0.040, Training Accuracy: 98.847, Testing Loss: 0.033, Testing Acc: 98.900\n",
            "Epoch 16/25, Training Loss: 0.037, Training Accuracy: 98.908, Testing Loss: 0.032, Testing Acc: 98.880\n",
            "Epoch 17/25, Training Loss: 0.036, Training Accuracy: 98.932, Testing Loss: 0.031, Testing Acc: 98.950\n",
            "Epoch 18/25, Training Loss: 0.034, Training Accuracy: 99.000, Testing Loss: 0.031, Testing Acc: 98.960\n",
            "Epoch 19/25, Training Loss: 0.034, Training Accuracy: 98.993, Testing Loss: 0.031, Testing Acc: 98.960\n",
            "Epoch 20/25, Training Loss: 0.031, Training Accuracy: 99.075, Testing Loss: 0.029, Testing Acc: 98.960\n",
            "Epoch 21/25, Training Loss: 0.030, Training Accuracy: 99.148, Testing Loss: 0.029, Testing Acc: 99.040\n",
            "Epoch 22/25, Training Loss: 0.029, Training Accuracy: 99.118, Testing Loss: 0.030, Testing Acc: 99.040\n",
            "Epoch 23/25, Training Loss: 0.028, Training Accuracy: 99.213, Testing Loss: 0.029, Testing Acc: 99.010\n",
            "Epoch 24/25, Training Loss: 0.027, Training Accuracy: 99.240, Testing Loss: 0.028, Testing Acc: 99.050\n",
            "Epoch 25/25, Training Loss: 0.025, Training Accuracy: 99.305, Testing Loss: 0.028, Testing Acc: 99.040\n"
          ]
        }
      ]
    },
    {
      "cell_type": "code",
      "source": [
        "# Plotting the Loss\n",
        "\n",
        "fig = plt.figure(figsize=(10,7))\n",
        "plt.plot(train_loss, label=\"Train Loss\")\n",
        "plt.plot(test_loss, label=\"Test Loss\")\n",
        "plt.legend()\n",
        "plt.show()"
      ],
      "metadata": {
        "colab": {
          "base_uri": "https://localhost:8080/",
          "height": 599
        },
        "id": "tGQlVLmbHHGL",
        "outputId": "b3793cd1-6d78-437b-d2b1-8fc03956489e"
      },
      "execution_count": null,
      "outputs": [
        {
          "output_type": "display_data",
          "data": {
            "text/plain": [
              "<Figure size 1000x700 with 1 Axes>"
            ],
            "image/png": "[encoded data removed]"
          },
          "metadata": {}
        }
      ]
    },
    {
      "cell_type": "code",
      "source": [
        "plt.imshow(test_dataset[10][0].reshape(28,28), cmap=\"gray\")"
      ],
      "metadata": {
        "colab": {
          "base_uri": "https://localhost:8080/",
          "height": 447
        },
        "id": "clmktNR4JfMT",
        "outputId": "ad181d1e-d659-4af3-bad2-d7e3af606a2d"
      },
      "execution_count": null,
      "outputs": [
        {
          "output_type": "execute_result",
          "data": {
            "text/plain": [
              "<matplotlib.image.AxesImage at 0x7c6a04621a50>"
            ]
          },
          "metadata": {},
          "execution_count": 26
        },
        {
          "output_type": "display_data",
          "data": {
            "text/plain": [
              "<Figure size 640x480 with 1 Axes>"
            ],
            "image/png": "[encoded data removed]"
          },
          "metadata": {}
        }
      ]
    },
    {
      "cell_type": "code",
      "source": [
        "def predict(img_name, model):\n",
        "  image = cv2.imread(img_name, 0)\n",
        "  ret, thresholded =  cv2.threshold(image, 127, 255, cv2.THRESH_BINARY)\n",
        "  img = 255-thresholded\n",
        "  cv2_imshow(img)\n",
        "  cv2.waitKey(0)\n",
        "  cv2.destroyAllWindows()\n",
        "  img = Image.fromarray(img)\n",
        "  img = transforms_photo(img)\n",
        "  img = img.view(1,1,28,28)\n",
        "  img = Variable(img)\n",
        "\n",
        "  model.eval()\n",
        "\n",
        "  if torch.cuda.is_available():\n",
        "    model = model.cuda()\n",
        "    img = img.cuda()\n",
        "\n",
        "    output = model(img)\n",
        "    print(output)\n",
        "    print(output.data)\n",
        "    _, predicted = torch.max(output, 1)\n",
        "\n",
        "    return predicted.item()\n",
        "\n"
      ],
      "metadata": {
        "id": "Wx6Y6hLEJMhA"
      },
      "execution_count": null,
      "outputs": []
    },
    {
      "cell_type": "code",
      "source": [
        "prediction = predict(\"bir.png\", model)\n",
        "print(\"Tahmin edilen label : {}\".format(prediction))"
      ],
      "metadata": {
        "colab": {
          "base_uri": "https://localhost:8080/",
          "height": 409
        },
        "id": "9e3nsyloLDzd",
        "outputId": "490163b5-350c-48e1-831b-c499de6101c3"
      },
      "execution_count": null,
      "outputs": [
        {
          "output_type": "display_data",
          "data": {
            "text/plain": [
              "<PIL.Image.Image image mode=L size=165x305>"
            ],
            "image/png": "[encoded data removed]"
          },
          "metadata": {}
        },
        {
          "output_type": "stream",
          "name": "stdout",
          "text": [
            "tensor([[-3.9486,  5.5649,  4.7064,  4.9905, -2.8724, -2.4366, -7.0591,  4.9414,\n",
            "          0.3135, -1.6071]], device='cuda:0', grad_fn=<AddmmBackward0>)\n",
            "tensor([[-3.9486,  5.5649,  4.7064,  4.9905, -2.8724, -2.4366, -7.0591,  4.9414,\n",
            "          0.3135, -1.6071]], device='cuda:0')\n",
            "Tahmin edilen label : 1\n"
          ]
        }
      ]
    },
    {
      "cell_type": "code",
      "source": [
        "img = test_dataset[10][0].resize_((1,1,28,28))    # (batch_size, channels, height, width)\n",
        "label = test_dataset[10][1]\n",
        "\n",
        "model.eval()\n",
        "\n",
        "CUDA = torch.cuda.is_available()\n",
        "if CUDA:\n",
        "  model = model.cuda()\n",
        "  img = img.cuda()\n",
        "\n",
        "output = model(img)\n",
        "_, predicted = torch.max(output,1)\n",
        "print(\"Tahmin edilen label : {}\". format(predicted.item()))\n",
        "print(\"Gerçek Label : {}\".format(label))"
      ],
      "metadata": {
        "colab": {
          "base_uri": "https://localhost:8080/"
        },
        "id": "JmRoH5LELROC",
        "outputId": "8baa3de3-63dc-49ec-c566-5287dfb4a2b5"
      },
      "execution_count": null,
      "outputs": [
        {
          "output_type": "stream",
          "name": "stdout",
          "text": [
            "Tahmin edilen label : 0\n",
            "Gerçek Label : 0\n"
          ]
        }
      ]
    },
    {
      "cell_type": "code",
      "source": [
        "img = test_dataset[17][0].resize_((1,1,28,28))    # (batch_size, channels, height, width)\n",
        "label = test_dataset[17][1]\n",
        "\n",
        "model.eval()\n",
        "\n",
        "CUDA = torch.cuda.is_available()\n",
        "if CUDA:\n",
        "  model = model.cuda()\n",
        "  img = img.cuda()\n",
        "\n",
        "output = model(img)\n",
        "_, predicted = torch.max(output,1)\n",
        "print(\"Tahmin edilen label : {}\". format(predicted.item()))\n",
        "print(\"Gerçek Label : {}\".format(label))"
      ],
      "metadata": {
        "colab": {
          "base_uri": "https://localhost:8080/"
        },
        "id": "nOHkaacDMRyl",
        "outputId": "2227a680-691b-45fe-eb83-3a473db74346"
      },
      "execution_count": null,
      "outputs": [
        {
          "output_type": "stream",
          "name": "stdout",
          "text": [
            "Tahmin edilen label : 7\n",
            "Gerçek Label : 7\n"
          ]
        }
      ]
    },
    {
      "cell_type": "code",
      "source": [],
      "metadata": {
        "id": "EkkNC0c-MYDG"
      },
      "execution_count": null,
      "outputs": []
    }
  ]
}